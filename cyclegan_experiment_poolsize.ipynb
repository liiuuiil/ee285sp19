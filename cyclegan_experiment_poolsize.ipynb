{
 "cells": [
  {
   "cell_type": "code",
   "execution_count": null,
   "metadata": {},
   "outputs": [],
   "source": [
    "import time\n",
    "from options.train_options import TrainOptions\n",
    "from data import create_dataset\n",
    "from models import create_model\n",
    "from util.visualizer import Visualizer\n",
    "\n",
    "if __name__ == '__main__':\n",
    "    opt = TrainOptions().parse()   # get training options\n",
    "    opt.pool_size = 100\n",
    "    dataset = create_dataset(opt) \n",
    "    dataset_size = len(dataset) \n",
    "    print('The number of training images = %d' % dataset_size)\n",
    "\n",
    "    model = create_model(opt)      # create a model given opt.model and other options\n",
    "    model.setup(opt)          \n",
    "    visualizer = Visualizer(opt) \n",
    "    total_iters = 0  \n",
    "\n",
    "    for epoch in range(opt.epoch_count, opt.niter + opt.niter_decay + 1):  \n",
    "        epoch_start_time = time.time()  \n",
    "        iter_data_time = time.time() \n",
    "        epoch_iter = 0                  #iterations in current epoch\n",
    "\n",
    "        for i, data in enumerate(dataset): \n",
    "            iter_start_time = time.time() \n",
    "            if total_iters % opt.print_freq == 0:\n",
    "                t_data = iter_start_time - iter_data_time\n",
    "            visualizer.reset()\n",
    "            total_iters += opt.batch_size\n",
    "            epoch_iter += opt.batch_size\n",
    "            model.set_input(data)  \n",
    "            model.optimize_parameters()   # calculate loss functions, get gradients, update network weights\n",
    "\n",
    "            if total_iters % opt.print_freq == 0:    # print training losses and save logging information to the disk\n",
    "                losses = model.get_current_losses()\n",
    "                t_comp = (time.time() - iter_start_time) / opt.batch_size\n",
    "                visualizer.print_current_losses(epoch, epoch_iter, losses, t_comp, t_data)\n",
    "                if opt.display_id > 0:\n",
    "                    visualizer.plot_current_losses(epoch, float(epoch_iter) / dataset_size, losses)\n",
    "\n",
    "            if total_iters % opt.save_latest_freq == 0:   # cache our latest model every <save_latest_freq> iterations\n",
    "                print('saving the latest model (epoch %d, total_iters %d)' % (epoch, total_iters))\n",
    "                save_suffix = 'iter_%d' % total_iters if opt.save_by_iter else 'latest'\n",
    "                model.save_networks(save_suffix)\n",
    "\n",
    "            iter_data_time = time.time()\n",
    "        if epoch % opt.save_epoch_freq == 0:      # At each save_epoch,  cache model\n",
    "            print('saving the model at the end of epoch %d, iters %d' % (epoch, total_iters))\n",
    "            model.save_networks('latest')\n",
    "            model.save_networks(epoch)\n",
    "\n",
    "        print('End of epoch %d / %d \\t Time Taken: %d sec' % (epoch, opt.niter + opt.niter_decay, time.time() - epoch_start_time))\n",
    "        model.update_learning_rate()                     # update learning rates\n",
    "\n"
   ]
  }
 ],
 "metadata": {
  "kernelspec": {
   "display_name": "Python 3",
   "language": "python",
   "name": "python3"
  },
  "language_info": {
   "codemirror_mode": {
    "name": "ipython",
    "version": 3
   },
   "file_extension": ".py",
   "mimetype": "text/x-python",
   "name": "python",
   "nbconvert_exporter": "python",
   "pygments_lexer": "ipython3",
   "version": "3.6.8"
  }
 },
 "nbformat": 4,
 "nbformat_minor": 2
}
